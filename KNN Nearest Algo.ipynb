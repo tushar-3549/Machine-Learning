{
 "cells": [
  {
   "cell_type": "code",
   "execution_count": 1,
   "id": "5b952c88",
   "metadata": {},
   "outputs": [],
   "source": [
    "weather = ['Sunny','Sunny','Overcast','Rainy','Rainy','Rainy','Overcast',\n",
    "           'Sunny','Sunny','Rainy','Sunny','Overcast','Overcast','Rainy']"
   ]
  },
  {
   "cell_type": "code",
   "execution_count": 2,
   "id": "2048e455",
   "metadata": {},
   "outputs": [],
   "source": [
    "temp = ['Hot','Hot','Hot','Mild','Cool','Cool','Cool','Mild','Cool',\n",
    "       'Mild','Mild','Mild','Hot','Mild']"
   ]
  },
  {
   "cell_type": "code",
   "execution_count": 3,
   "id": "5928de82",
   "metadata": {},
   "outputs": [],
   "source": [
    "play = ['No','No','Yes','Yes','Yes','No','Yes','No','Yes','Yes','Yes','Yes','Yes','No']"
   ]
  },
  {
   "cell_type": "code",
   "execution_count": 4,
   "id": "407b8082",
   "metadata": {},
   "outputs": [],
   "source": [
    "#labelencoder import\n",
    "from sklearn import preprocessing"
   ]
  },
  {
   "cell_type": "code",
   "execution_count": 5,
   "id": "cf7bf6a9",
   "metadata": {},
   "outputs": [],
   "source": [
    "leb = preprocessing.LabelEncoder()\n",
    "\n",
    "weather_encod = leb.fit_transform(weather)"
   ]
  },
  {
   "cell_type": "code",
   "execution_count": 6,
   "id": "c0c050b0",
   "metadata": {},
   "outputs": [
    {
     "data": {
      "text/plain": [
       "array([2, 2, 0, 1, 1, 1, 0, 2, 2, 1, 2, 0, 0, 1], dtype=int64)"
      ]
     },
     "execution_count": 6,
     "metadata": {},
     "output_type": "execute_result"
    }
   ],
   "source": [
    "weather_encod"
   ]
  },
  {
   "cell_type": "code",
   "execution_count": 7,
   "id": "c3d9cc80",
   "metadata": {},
   "outputs": [],
   "source": [
    "temp_encod = leb.fit_transform(temp)"
   ]
  },
  {
   "cell_type": "code",
   "execution_count": 8,
   "id": "e0525ee2",
   "metadata": {},
   "outputs": [
    {
     "data": {
      "text/plain": [
       "array([1, 1, 1, 2, 0, 0, 0, 2, 0, 2, 2, 2, 1, 2], dtype=int64)"
      ]
     },
     "execution_count": 8,
     "metadata": {},
     "output_type": "execute_result"
    }
   ],
   "source": [
    "temp_encod"
   ]
  },
  {
   "cell_type": "code",
   "execution_count": 9,
   "id": "857bd994",
   "metadata": {},
   "outputs": [],
   "source": [
    "play_encod = leb.fit_transform(play)"
   ]
  },
  {
   "cell_type": "code",
   "execution_count": 10,
   "id": "266b7d9a",
   "metadata": {},
   "outputs": [
    {
     "data": {
      "text/plain": [
       "array([0, 0, 1, 1, 1, 0, 1, 0, 1, 1, 1, 1, 1, 0], dtype=int64)"
      ]
     },
     "execution_count": 10,
     "metadata": {},
     "output_type": "execute_result"
    }
   ],
   "source": [
    "play_encod"
   ]
  },
  {
   "cell_type": "code",
   "execution_count": 11,
   "id": "a47f3f9b",
   "metadata": {},
   "outputs": [],
   "source": [
    "# combining weather and temp into single list of tupples\n",
    "features = list(zip(weather_encod, temp_encod))"
   ]
  },
  {
   "cell_type": "code",
   "execution_count": 12,
   "id": "cef28393",
   "metadata": {},
   "outputs": [
    {
     "data": {
      "text/plain": [
       "[(2, 1),\n",
       " (2, 1),\n",
       " (0, 1),\n",
       " (1, 2),\n",
       " (1, 0),\n",
       " (1, 0),\n",
       " (0, 0),\n",
       " (2, 2),\n",
       " (2, 0),\n",
       " (1, 2),\n",
       " (2, 2),\n",
       " (0, 2),\n",
       " (0, 1),\n",
       " (1, 2)]"
      ]
     },
     "execution_count": 12,
     "metadata": {},
     "output_type": "execute_result"
    }
   ],
   "source": [
    "features"
   ]
  },
  {
   "cell_type": "code",
   "execution_count": 13,
   "id": "3e4635fa",
   "metadata": {},
   "outputs": [],
   "source": [
    "from sklearn.neighbors import KNeighborsClassifier\n",
    "model = KNeighborsClassifier(n_neighbors=3)  #root(12) = 3"
   ]
  },
  {
   "cell_type": "code",
   "execution_count": 14,
   "id": "697f8fbc",
   "metadata": {},
   "outputs": [
    {
     "data": {
      "text/plain": [
       "KNeighborsClassifier(n_neighbors=3)"
      ]
     },
     "execution_count": 14,
     "metadata": {},
     "output_type": "execute_result"
    }
   ],
   "source": [
    "model.fit(features, play_encod)"
   ]
  },
  {
   "cell_type": "code",
   "execution_count": 15,
   "id": "16d5c2a8",
   "metadata": {},
   "outputs": [],
   "source": [
    "pred = model.predict([[0,2]])    # 0 = overcast , 2 = mild"
   ]
  },
  {
   "cell_type": "code",
   "execution_count": 17,
   "id": "bdee3e13",
   "metadata": {},
   "outputs": [
    {
     "data": {
      "text/plain": [
       "array([1], dtype=int64)"
      ]
     },
     "execution_count": 17,
     "metadata": {},
     "output_type": "execute_result"
    }
   ],
   "source": [
    "pred"
   ]
  }
 ],
 "metadata": {
  "kernelspec": {
   "display_name": "Python 3",
   "language": "python",
   "name": "python3"
  },
  "language_info": {
   "codemirror_mode": {
    "name": "ipython",
    "version": 3
   },
   "file_extension": ".py",
   "mimetype": "text/x-python",
   "name": "python",
   "nbconvert_exporter": "python",
   "pygments_lexer": "ipython3",
   "version": "3.8.8"
  }
 },
 "nbformat": 4,
 "nbformat_minor": 5
}
